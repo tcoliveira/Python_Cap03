{
 "cells": [
  {
   "cell_type": "markdown",
   "metadata": {},
   "source": [
    "# Calculadora"
   ]
  },
  {
   "cell_type": "code",
   "execution_count": 8,
   "metadata": {},
   "outputs": [
    {
     "name": "stdout",
     "output_type": "stream",
     "text": [
      "Digite primeiro valor: 6\n",
      "Digite segundo valor: 1\n",
      "1 - Soma\n",
      "2 - Subtracao\n",
      "3 - Multiplicacao\n",
      "4 - Divisao\n",
      "Digite a opcao desejada (1,2,3 ou 4): 2\n",
      "5\n"
     ]
    }
   ],
   "source": [
    "#inicio\n",
    "a = int(input('Digite primeiro valor: '))\n",
    "b = int(input('Digite segundo valor: '))\n",
    "\n",
    "print('1 - Soma' + '\\n'\n",
    "     + '2 - Subtracao'+ '\\n'\n",
    "     + '3 - Multiplicacao'+ '\\n'\n",
    "     + '4 - Divisao')\n",
    "\n",
    "inp = input('Digite a opcao desejada (1,2,3 ou 4): ')\n",
    "def Soma(a,b):\n",
    "    print(a+b)\n",
    "\n",
    "def Subtracao(a,b):\n",
    "    print(a-b)\n",
    "\n",
    "def Multiplicacao(a,b):\n",
    "    print(a*b)\n",
    "    \n",
    "def Divisao(a,b):\n",
    "    print(a/b)\n",
    "\n",
    "if inp == '1':\n",
    "    Soma(a,b)\n",
    "elif inp == '2':\n",
    "    Subtracao(a,b)\n",
    "elif inp == '3':\n",
    "    Multiplicacao(a,b)\n",
    "elif inp == '4':\n",
    "    Divisao(a,b)\n",
    "elif inp == '5':\n",
    "    print('Operacao errada')"
   ]
  },
  {
   "cell_type": "code",
   "execution_count": null,
   "metadata": {},
   "outputs": [],
   "source": []
  },
  {
   "cell_type": "code",
   "execution_count": null,
   "metadata": {},
   "outputs": [],
   "source": []
  }
 ],
 "metadata": {
  "kernelspec": {
   "display_name": "Python 3",
   "language": "python",
   "name": "python3"
  },
  "language_info": {
   "codemirror_mode": {
    "name": "ipython",
    "version": 3
   },
   "file_extension": ".py",
   "mimetype": "text/x-python",
   "name": "python",
   "nbconvert_exporter": "python",
   "pygments_lexer": "ipython3",
   "version": "3.7.4"
  }
 },
 "nbformat": 4,
 "nbformat_minor": 2
}
