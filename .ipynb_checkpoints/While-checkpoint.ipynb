{
 "cells": [
  {
   "cell_type": "code",
   "execution_count": 2,
   "metadata": {},
   "outputs": [
    {
     "name": "stdout",
     "output_type": "stream",
     "text": [
      "Valor de x nesta itercao eh de: 0\n",
      "x ainda eh menor que 10\n",
      "Valor de x nesta itercao eh de: 1\n",
      "x ainda eh menor que 10\n",
      "Valor de x nesta itercao eh de: 2\n",
      "x ainda eh menor que 10\n",
      "Valor de x nesta itercao eh de: 3\n",
      "x ainda eh menor que 10\n",
      "Valor de x nesta itercao eh de: 4\n",
      "x ainda eh menor que 10\n",
      "Valor de x nesta itercao eh de: 5\n",
      "x ainda eh menor que 10\n",
      "Valor de x nesta itercao eh de: 6\n",
      "x ainda eh menor que 10\n",
      "Valor de x nesta itercao eh de: 7\n",
      "x ainda eh menor que 10\n",
      "Valor de x nesta itercao eh de: 8\n",
      "x ainda eh menor que 10\n",
      "Valor de x nesta itercao eh de: 9\n",
      "x ainda eh menor que 10\n",
      "Fim loop 10\n"
     ]
    }
   ],
   "source": [
    "x = 0\n",
    "while x< 10:\n",
    "    print('Valor de x nesta itercao eh de:', x )\n",
    "    print('x ainda eh menor que 10')\n",
    "    x+=1\n",
    "else:\n",
    "    print('Fim loop', x)"
   ]
  },
  {
   "cell_type": "markdown",
   "metadata": {},
   "source": [
    "# Pass, Break, Continue"
   ]
  },
  {
   "cell_type": "code",
   "execution_count": 4,
   "metadata": {},
   "outputs": [
    {
     "name": "stdout",
     "output_type": "stream",
     "text": [
      "0\n",
      "1\n",
      "2\n",
      "3\n"
     ]
    }
   ],
   "source": [
    "ct = 0\n",
    "while ct<100:\n",
    "    if ct ==4:\n",
    "        break\n",
    "    else:\n",
    "        pass\n",
    "    print(ct)\n",
    "    ct +=1"
   ]
  },
  {
   "cell_type": "code",
   "execution_count": 6,
   "metadata": {},
   "outputs": [
    {
     "name": "stdout",
     "output_type": "stream",
     "text": [
      "P\n",
      "y\n",
      "t\n",
      "o\n",
      "n\n"
     ]
    }
   ],
   "source": [
    "for chk in 'Python':\n",
    "    if chk == 'h':\n",
    "        continue\n",
    "    print(chk)"
   ]
  },
  {
   "cell_type": "code",
   "execution_count": 7,
   "metadata": {},
   "outputs": [
    {
     "name": "stdout",
     "output_type": "stream",
     "text": [
      "2 eh um numero primo\n",
      "3 eh um numero primo\n",
      "5 eh um numero primo\n",
      "7 eh um numero primo\n",
      "11 eh um numero primo\n",
      "13 eh um numero primo\n",
      "17 eh um numero primo\n",
      "19 eh um numero primo\n",
      "23 eh um numero primo\n",
      "29 eh um numero primo\n"
     ]
    }
   ],
   "source": [
    "for i in range(2,30):\n",
    "    j=2\n",
    "    ct = 0\n",
    "    while j< i:\n",
    "        if i% j ==0:\n",
    "            ct = 1\n",
    "            j = j+1\n",
    "        else:\n",
    "            j = j+1\n",
    "    if ct ==0:\n",
    "        print(str(i) + ' eh um numero primo')\n",
    "        ct = 0\n",
    "    else:\n",
    "        ct = 0"
   ]
  }
 ],
 "metadata": {
  "kernelspec": {
   "display_name": "Python 3",
   "language": "python",
   "name": "python3"
  },
  "language_info": {
   "codemirror_mode": {
    "name": "ipython",
    "version": 3
   },
   "file_extension": ".py",
   "mimetype": "text/x-python",
   "name": "python",
   "nbconvert_exporter": "python",
   "pygments_lexer": "ipython3",
   "version": "3.7.4"
  }
 },
 "nbformat": 4,
 "nbformat_minor": 2
}
