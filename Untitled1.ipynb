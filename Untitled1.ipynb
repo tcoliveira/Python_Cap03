{
 "cells": [
  {
   "cell_type": "markdown",
   "metadata": {},
   "source": [
    "# Calculadora"
   ]
  },
  {
   "cell_type": "code",
   "execution_count": null,
   "metadata": {},
   "outputs": [],
   "source": [
    "\n",
    "print('1 - Soma' + '\\n'\n",
    "     + '2 - Subtracao'+ '\\n'\n",
    "     + '3 - Multiplicacao'+ '\\n'\n",
    "     + '4 - Divisao')\n",
    "\n",
    "inp = input('Digite a opcao desejada (1,2,3 ou 4): ')"
   ]
  }
 ],
 "metadata": {
  "kernelspec": {
   "display_name": "Python 3",
   "language": "python",
   "name": "python3"
  },
  "language_info": {
   "codemirror_mode": {
    "name": "ipython",
    "version": 3
   },
   "file_extension": ".py",
   "mimetype": "text/x-python",
   "name": "python",
   "nbconvert_exporter": "python",
   "pygments_lexer": "ipython3",
   "version": "3.7.4"
  }
 },
 "nbformat": 4,
 "nbformat_minor": 2
}
